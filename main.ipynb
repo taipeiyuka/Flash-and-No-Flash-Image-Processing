{
 "cells": [
  {
   "cell_type": "code",
   "execution_count": 1,
   "id": "4e069d4f",
   "metadata": {},
   "outputs": [],
   "source": [
    "import cv2\n",
    "import numpy as np\n",
    "import matplotlib.pyplot as plt\n",
    "import math\n",
    "from PIL import Image\n",
    "import imageio\n",
    "import os\n",
    "import csv"
   ]
  },
  {
   "cell_type": "markdown",
   "id": "d6ffa5d0",
   "metadata": {},
   "source": [
    "# Denoising and Detail Transfer"
   ]
  },
  {
   "cell_type": "code",
   "execution_count": 2,
   "id": "3b237662",
   "metadata": {},
   "outputs": [],
   "source": [
    "def GaussianRange(r):\n",
    "    GaussianRange = np.zeros(256)\n",
    "    part = (1 / math.sqrt(2*math.pi* (r**2)))\n",
    "    for i in range(256):\n",
    "        GaussianRange[i] = part * np.exp(-(i**2)/(2 * (r**2)))  \n",
    "    return GaussianRange"
   ]
  },
  {
   "cell_type": "code",
   "execution_count": 3,
   "id": "50696e3a",
   "metadata": {},
   "outputs": [],
   "source": [
    "def GaussianSpatial(d):\n",
    "    part = (1 / math.sqrt(2*math.pi* (d**2)))\n",
    "    GaussianSpatial = np.zeros((2 * d + 1,2 * d + 1))\n",
    "    range_d = -d + np.arange(2 * d+ 1)\n",
    "    for i in range_d:\n",
    "        for j in range_d:\n",
    "            GaussianSpatial[i+d][j+d]= part * np.exp(-(i **2 + j **2) /(2 * (d**2) ) )\n",
    "    return GaussianSpatial"
   ]
  },
  {
   "cell_type": "code",
   "execution_count": 4,
   "id": "f4f54391",
   "metadata": {},
   "outputs": [],
   "source": [
    "def jointBilateralFilter(no_flash, flash, d, r):\n",
    "    x, y, rgb = no_flash.shape\n",
    "    noflashImg =np.pad(no_flash, ((d, d), (d, d), (0, 0)), 'symmetric') \n",
    "    flashImg = np.pad(flash, ((d, d), (d, d), (0, 0)), 'symmetric')\n",
    "    outputImg = np.zeros((x,y,rgb), np.uint8)\n",
    "    GaussianR = GaussianRange(r)\n",
    "    GaussianS = GaussianSpatial(d)\n",
    "    \n",
    "    for i in range(d, d + x):\n",
    "        for j in range(d, d + y):\n",
    "            kp = 0\n",
    "            sum1 = 0\n",
    "            for k in range (rgb):\n",
    "                pInten = flashImg[i][j][k]\n",
    "                qInten = flashImg[i-d : i+d+1 , j-d : j+d+1, k] \n",
    "                Rangepad = GaussianR[abs(qInten - pInten)]\n",
    "                Rangepad2 = Rangepad * noflashImg[i-d : i+d+1 , j-d : j+d+1, k] \n",
    "                mul=Rangepad*GaussianS\n",
    "                kp= np.sum(mul)\n",
    "                mul2= Rangepad2*GaussianS\n",
    "                sum1 =  np.sum(mul2)\n",
    "                outputImg [i-d][j-d][k]= (1/kp)*sum1\n",
    "                \n",
    "    return outputImg\n",
    "\n",
    "def DetailTransfer(flash, e, F_base, denoiseImg):\n",
    "    h, w, rgb = flash.shape\n",
    "    F_detail = np.zeros((h,w,rgb), np.uint8)\n",
    "    for x in range(h):\n",
    "        for y in range(w):\n",
    "            for i in range (rgb):\n",
    "                F_detail[x][y][i] = (flash[x][y][i] + e)/(F_base[x][y][i] + e) * denoiseImg[x][y][i]\n",
    "                \n",
    "\n",
    "    return F_detail\n",
    "                        "
   ]
  },
  {
   "cell_type": "markdown",
   "id": "fcaefdc1",
   "metadata": {},
   "source": [
    "# Detecting shadow"
   ]
  },
  {
   "cell_type": "code",
   "execution_count": 5,
   "id": "1adfd7a7",
   "metadata": {},
   "outputs": [],
   "source": [
    "def flash_no_flash_process(k, a, f, d, fast, use_hist):\n",
    "    _, ext = os.path.splitext(a)\n",
    "    # Load images\n",
    "    A = cv2.imread('./Test_Photos/'+d+'/'+a)\n",
    "    F = cv2.imread('./Test_Photos/'+d+'/'+f)\n",
    "    \n",
    "    if A.shape[0] * A.shape[1]/1000000 < 1:\n",
    "        sigmaSpace = 3\n",
    "    elif A.shape[0] * A.shape[1]/1000000 < 2:\n",
    "        sigmaSpace = 9\n",
    "    else:\n",
    "        sigmaSpace = 36\n",
    "        \n",
    "    sigmaColor = (255 * 0.1)\n",
    "    \n",
    "    # Bilateral filter on ambient image\n",
    "    if fast: A_base = cv2.bilateralFilter(A,sigmaSpace,sigmaColor,sigmaSpace)\n",
    "    else: A_base = jointBilateralFilter(A,A,sigmaSpace,sigmaColor)\n",
    "    \n",
    "    # Joint bilateral filter with flash image as the guide\n",
    "    if fast: A_nr = cv2.ximgproc.jointBilateralFilter(F, A, sigmaSpace,(255 * 0.001),sigmaSpace)\n",
    "    else: A_nr = jointBilateralFilter(A, F, sigmaSpace,(255 * 0.001))\n",
    "    cv2.imwrite('./Output/'+d+'/'+k+'_ambient_joint'+ext, A_nr)\n",
    "    \n",
    "    # Extract detail of flash image\n",
    "    epsilon = np.ones(F.shape, dtype = np.float32) * 0.02\n",
    "    if fast: F_base = cv2.bilateralFilter(F,sigmaSpace, 50,sigmaSpace)\n",
    "    else: F_base = jointBilateralFilter(F,F,sigmaSpace,50)\n",
    "    F_detail = cv2.divide(F.astype(np.float32) + epsilon, F_base.astype(np.float32) + epsilon)\n",
    "    F_detail = np.clip(F_detail,0,2)\n",
    "    A_nrdetail = cv2.multiply(F_detail, A_nr.astype(np.float32))\n",
    "    A_nrdetail = np.clip(A_nrdetail, 0, 255).astype(np.uint8)\n",
    "    cv2.imwrite('./Output/'+d+'/'+k+'_ambient_nrdetail'+ext, A_nrdetail)\n",
    "        \n",
    "    # Heuristic of shadow and specularity detection\n",
    "    A_grey = cv2.cvtColor(A, cv2.COLOR_BGR2GRAY)\n",
    "    A_grey = cv2.GaussianBlur(A_grey,(5,5),0)\n",
    "    A_grey = cv2.normalize(A_grey, None, 0, 255, cv2.NORM_MINMAX)\n",
    "    F_grey = cv2.cvtColor(F, cv2.COLOR_BGR2GRAY)\n",
    "    F_grey = cv2.GaussianBlur(F_grey,(5,5),0)\n",
    "    F_grey = cv2.normalize(F_grey, None, 0, 255, cv2.NORM_MINMAX)\n",
    "    \n",
    "    A_shadIndex = 20\n",
    "    F_shadIndex = 20\n",
    "    if use_hist:\n",
    "        A_hist = cv2.calcHist(A_grey,[0],None,[256],[0,256])\n",
    "        A_hist = np.cumsum(A_hist)\n",
    "        A_shadIndex = np.searchsorted(A_hist, round(A_hist[-1]*0.05), side='right')\n",
    "\n",
    "        F_hist = cv2.calcHist(F_grey,[0],None,[256],[0,256])\n",
    "        F_hist = np.cumsum(F_hist)\n",
    "        F_shadIndex = np.searchsorted(F_hist, round(F_hist[-1]*0.2), side='right')\n",
    "    F_specIndex = 245\n",
    "    \n",
    "\n",
    "    _, F_shadow = cv2.threshold(F_grey, F_shadIndex, 255, cv2.THRESH_BINARY_INV)\n",
    "    _, A_shadow = cv2.threshold(A_grey, A_shadIndex, 255, cv2.THRESH_BINARY_INV)\n",
    "    \n",
    "    kernel =  cv2.getStructuringElement(cv2.MORPH_ELLIPSE,(5,5))\n",
    "    F_shadow = cv2.dilate(F_shadow,kernel,iterations = 1)\n",
    "    A_shadow = cv2.erode(A_shadow,kernel,iterations = 1)\n",
    "    \n",
    "    M_shadow = cv2.bitwise_and(F_shadow, cv2.bitwise_not(A_shadow))\n",
    "    M_shadow = M_shadow.astype(np.uint8)\n",
    "    M_shadow = cv2.dilate(M_shadow,kernel,iterations = 1)\n",
    "    \n",
    "    _, F_specular = cv2.threshold(F_grey, F_specIndex, 255, cv2.THRESH_BINARY)\n",
    "    F_specular = cv2.dilate(F_specular,kernel,iterations = 1)\n",
    "    \n",
    "    M_art = cv2.bitwise_or(M_shadow, F_specular)\n",
    "    cv2.imwrite('./Output/'+d+'/'+k+'_mask_artifact'+ext, M_art)\n",
    "        \n",
    "    # Save output image\n",
    "    A_final = np.zeros(A.shape, dtype = np.uint8)\n",
    "    for i in range(3):\n",
    "        A_final[:,:,i] = cv2.bitwise_or(cv2.bitwise_and(A_nrdetail[:,:,i],cv2.bitwise_not(M_art)), cv2.bitwise_and(A_base[:,:,i],M_art))\n",
    "    cv2.imwrite('./Output/'+d+'/'+k+'_ambient_final'+ext,  A_final)"
   ]
  },
  {
   "cell_type": "code",
   "execution_count": 6,
   "id": "370facde",
   "metadata": {
    "scrolled": false
   },
   "outputs": [
    {
     "name": "stdout",
     "output_type": "stream",
     "text": [
      "Object_Photos\n",
      "people\n",
      "plants\n",
      "Rooms_Photos\n",
      "shelves\n",
      "test\n",
      "Toys_Photos\n"
     ]
    }
   ],
   "source": [
    "if not os.path.exists('./Output'):\n",
    "    os.mkdir('./Output')\n",
    "directories = os.listdir('Test_Photos')\n",
    "for d in directories:\n",
    "    if d[0] == '.': continue\n",
    "    print(d)\n",
    "    if not os.path.exists('./Output/'+d):\n",
    "        os.mkdir('./Output/'+d)\n",
    "    if d == \"test\":\n",
    "        flash_no_flash_process(\"test\", 'cave01_01_noflash.jpg', 'cave01_00_flash.jpg', \"test\", False, False)\n",
    "    else:\n",
    "        with open('./Test_Photos/'+d+'/meta.csv', 'r') as csvfile:\n",
    "            r = csv.DictReader(csvfile)\n",
    "            for row in r:\n",
    "                flash_no_flash_process(row['key'], row['ambient'], row['flash'], d, True, True)\n"
   ]
  },
  {
   "cell_type": "code",
   "execution_count": null,
   "id": "e44906c5",
   "metadata": {},
   "outputs": [],
   "source": []
  }
 ],
 "metadata": {
  "kernelspec": {
   "display_name": "Python 3 (ipykernel)",
   "language": "python",
   "name": "python3"
  },
  "language_info": {
   "codemirror_mode": {
    "name": "ipython",
    "version": 3
   },
   "file_extension": ".py",
   "mimetype": "text/x-python",
   "name": "python",
   "nbconvert_exporter": "python",
   "pygments_lexer": "ipython3",
   "version": "3.8.12"
  }
 },
 "nbformat": 4,
 "nbformat_minor": 5
}
