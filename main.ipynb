{
 "cells": [
  {
   "cell_type": "code",
   "execution_count": 1,
   "id": "4e069d4f",
   "metadata": {},
   "outputs": [],
   "source": [
    "import cv2\n",
    "import numpy as np\n",
    "import matplotlib.pyplot as plt"
   ]
  },
  {
   "cell_type": "code",
   "execution_count": 2,
   "id": "296f0e7b",
   "metadata": {},
   "outputs": [],
   "source": [
    "base_blend_with_ambient = False"
   ]
  },
  {
   "cell_type": "code",
   "execution_count": 3,
   "id": "667fee2b",
   "metadata": {},
   "outputs": [],
   "source": [
    "# code from https://stackoverflow.com/a/43346070\n",
    "def gkern(l, sig = 1.):\n",
    "    \"\"\"\\\n",
    "    creates gaussian kernel with side length `l` and a sigma of `sig`\n",
    "    \"\"\"\n",
    "    ax = np.linspace(-(l - 1) / 2., (l - 1) / 2., l)\n",
    "    gauss = np.exp(-0.5 * np.square(ax) / np.square(sig))\n",
    "    kernel = np.outer(gauss, gauss)\n",
    "    return kernel / np.sum(kernel)"
   ]
  },
  {
   "cell_type": "code",
   "execution_count": 4,
   "id": "1adfd7a7",
   "metadata": {},
   "outputs": [],
   "source": [
    "def flash_no_flash_process(k, a, f, d):\n",
    "    # Load images\n",
    "    A = cv2.imread('./Test_Photos/'+d+'/'+a)\n",
    "    F = cv2.imread('./Test_Photos/'+d+'/'+f)\n",
    "    \n",
    "    if A.shape[0] * A.shape[1]/1000000 < 1:\n",
    "        sigmaSpace = 3\n",
    "    elif A.shape[0] * A.shape[1]/1000000 < 2:\n",
    "        sigmaSpace = 9\n",
    "    else:\n",
    "        sigmaSpace = 36\n",
    "        \n",
    "    sigmaColor = round(255 * 0.1)\n",
    "    \n",
    "    # Bilateral filter on ambient image\n",
    "    A_base = cv2.bilateralFilter(A,sigmaSpace,sigmaColor,sigmaSpace)\n",
    "    \n",
    "    # Joint bilateral filter with flash image as the guide\n",
    "    A_nr = cv2.ximgproc.jointBilateralFilter(F, A, sigmaSpace,round(255 * 0.001),sigmaSpace)\n",
    "    \n",
    "    # Extract detail of flash image\n",
    "    epsilon = np.ones(F.shape, dtype = np.float32) * 0.02\n",
    "    F_base = cv2.bilateralFilter(F,sigmaSpace, 50,sigmaSpace)\n",
    "    F_detail = cv2.divide(F.astype(np.float32) + epsilon, F_base.astype(np.float32) + epsilon)\n",
    "    F_detail = np.clip(F_detail,0,2)\n",
    "    A_nrdetail = cv2.multiply(F_detail, A_nr.astype(np.float32))\n",
    "    A_nrdetail = np.clip(A_nrdetail, 0, 255).astype(np.uint8)\n",
    "    cv2.imwrite('./Output/'+d+'/'+k+'_ambient_nrdetail.png', A_nrdetail)\n",
    "        \n",
    "    # Heuristic of shadow and specularity detection\n",
    "    A_grey = cv2.cvtColor(A, cv2.COLOR_BGR2GRAY)\n",
    "    A_grey = cv2.GaussianBlur(A_grey,(5,5),0)\n",
    "    A_grey = cv2.normalize(A_grey, None, 0, 255, cv2.NORM_MINMAX)\n",
    "    F_grey = cv2.cvtColor(F, cv2.COLOR_BGR2GRAY)\n",
    "    F_grey = cv2.GaussianBlur(F_grey,(5,5),0)\n",
    "    F_grey = cv2.normalize(F_grey, None, 0, 255, cv2.NORM_MINMAX)\n",
    "    \n",
    "    A_hist = cv2.calcHist(A_grey,[0],None,[256],[0,256])\n",
    "    A_hist = np.cumsum(A_hist)\n",
    "    A_shadIndex = np.searchsorted(A_hist, round(A_hist[-1]*0.05), side='left')\n",
    "\n",
    "    F_hist = cv2.calcHist(F_grey,[0],None,[256],[0,256])\n",
    "    F_hist = np.cumsum(F_hist)\n",
    "    F_shadIndex = np.searchsorted(F_hist, round(F_hist[-1]*0.2), side='left')\n",
    "    F_specIndex = 245\n",
    "    \n",
    "\n",
    "    _, F_shadow = cv2.threshold(F_grey, F_shadIndex, 255, cv2.THRESH_BINARY_INV)\n",
    "    _, A_shadow = cv2.threshold(A_grey, A_shadIndex, 255, cv2.THRESH_BINARY_INV)\n",
    "    \n",
    "    kernel = gkern(5)\n",
    "    F_shadow = cv2.dilate(F_shadow,kernel,iterations = 1)\n",
    "    A_shadow = cv2.erode(A_shadow,kernel,iterations = 1)\n",
    "    \n",
    "    M_shadow = cv2.bitwise_and(F_shadow, cv2.bitwise_not(A_shadow))\n",
    "    M_shadow = M_shadow.astype(np.uint8)\n",
    "    M_shadow = cv2.dilate(M_shadow,kernel,iterations = 1)\n",
    "    \n",
    "    _, F_specular = cv2.threshold(F_grey, F_specIndex, 255, cv2.THRESH_BINARY)\n",
    "    F_specular = cv2.dilate(F_specular,kernel,iterations = 1)\n",
    "    \n",
    "    M_art = cv2.bitwise_or(M_shadow, F_specular)\n",
    "    cv2.imwrite('./Output/'+d+'/'+k+'_mask_artifact.png', M_art)\n",
    "        \n",
    "    # Save output image\n",
    "    A_final = np.zeros(A.shape, dtype = np.uint8)\n",
    "    for i in range(3):\n",
    "        A_final[:,:,i] = cv2.bitwise_or(cv2.bitwise_and(A_nrdetail[:,:,i],cv2.bitwise_not(M_art)), cv2.bitwise_and(A_base[:,:,i],M_art))\n",
    "    cv2.imwrite('./Output/'+d+'/'+k+'_ambient_final.png',  A_final)\n",
    "    \n",
    "    if base_blend_with_ambient:\n",
    "        A_final = np.zeros(A.shape, dtype = np.uint8)\n",
    "        A_blend = cv2.addWeighted(A, 0.5, A_base, 0.5, 0.0)\n",
    "        for i in range(3):\n",
    "            A_final[:,:,i] = cv2.bitwise_or(cv2.bitwise_and(A_nrdetail[:,:,i],cv2.bitwise_not(M_art)), cv2.bitwise_and(A_base[:,:,i],M_art))\n",
    "        cv2.imwrite('./Output/'+d+'/'+k+'_ambient_final_blend.png',  A_final)"
   ]
  },
  {
   "cell_type": "code",
   "execution_count": 5,
   "id": "370facde",
   "metadata": {
    "scrolled": false
   },
   "outputs": [
    {
     "name": "stdout",
     "output_type": "stream",
     "text": [
      "flash_data_JBF_Detail_transfer\n",
      "Object_Photos\n",
      "people\n",
      "plants\n",
      "Rooms_Photos\n",
      "shelves\n",
      "Toys_Photos\n"
     ]
    }
   ],
   "source": [
    "import os\n",
    "import csv\n",
    "if not os.path.exists('./Output'):\n",
    "    os.mkdir('./Output')\n",
    "directories = os.listdir('Test_Photos')\n",
    "for d in directories:\n",
    "    print(d)\n",
    "    if not os.path.exists('./Output/'+d):\n",
    "        os.mkdir('./Output/'+d)\n",
    "    with open('./Test_Photos/'+d+'/meta.csv', 'r') as csvfile:\n",
    "        r = csv.DictReader(csvfile)\n",
    "        for row in r:\n",
    "            flash_no_flash_process(row['key'], row['ambient'], row['flash'], d)"
   ]
  },
  {
   "cell_type": "code",
   "execution_count": null,
   "id": "2730b583",
   "metadata": {},
   "outputs": [],
   "source": []
  },
  {
   "cell_type": "code",
   "execution_count": null,
   "id": "d9a6bd40",
   "metadata": {},
   "outputs": [],
   "source": []
  }
 ],
 "metadata": {
  "kernelspec": {
   "display_name": "Python 3 (ipykernel)",
   "language": "python",
   "name": "python3"
  },
  "language_info": {
   "codemirror_mode": {
    "name": "ipython",
    "version": 3
   },
   "file_extension": ".py",
   "mimetype": "text/x-python",
   "name": "python",
   "nbconvert_exporter": "python",
   "pygments_lexer": "ipython3",
   "version": "3.8.12"
  }
 },
 "nbformat": 4,
 "nbformat_minor": 5
}
