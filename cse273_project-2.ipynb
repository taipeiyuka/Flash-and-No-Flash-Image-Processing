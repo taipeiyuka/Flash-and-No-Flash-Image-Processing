{
 "cells": [
  {
   "cell_type": "code",
   "execution_count": 1,
   "id": "ab905d9d",
   "metadata": {},
   "outputs": [],
   "source": [
    "import numpy as np\n",
    "import glob\n",
    "import math\n",
    "from PIL import Image\n",
    "import imageio"
   ]
  },
  {
   "cell_type": "code",
   "execution_count": 10,
   "id": "566f3fba",
   "metadata": {},
   "outputs": [],
   "source": [
    "def GaussianRange(r):\n",
    "    GaussianRange = np.zeros(256)\n",
    "    part = (1 / math.sqrt(2*math.pi* (r**2)))\n",
    "    for i in range(256):\n",
    "        GaussianRange[i] = part * np.exp(-(i**2)/(2 * (r**2)))  \n",
    "    return GaussianRange"
   ]
  },
  {
   "cell_type": "code",
   "execution_count": 11,
   "id": "f06f8e70",
   "metadata": {},
   "outputs": [],
   "source": [
    "def GaussianSpatial(d):\n",
    "    part = (1 / math.sqrt(2*math.pi* (d**2)))\n",
    "    GaussianSpatial = np.zeros((2 * d + 1,2 * d + 1))\n",
    "    range_d = -d + np.arange(2 * d+ 1)\n",
    "    for i in range_d:\n",
    "        for j in range_d:\n",
    "            GaussianSpatial[i+d][j+d]= part * np.exp(-(i **2 + j **2) /(2 * (d**2) ) )\n",
    "    return GaussianSpatial"
   ]
  },
  {
   "cell_type": "code",
   "execution_count": 12,
   "id": "8d816a73",
   "metadata": {},
   "outputs": [],
   "source": [
    "def jointBilateralFilter(no_flash, flash, d, r):\n",
    "    x, y, rgb = no_flash.shape\n",
    "    noflashImg =np.pad(no_flash, ((d, d), (d, d), (0, 0)), 'symmetric') \n",
    "    flashImg = np.pad(flash, ((d, d), (d, d), (0, 0)), 'symmetric')\n",
    "    outputImg = np.zeros((x,y,rgb), np.uint8)\n",
    "    GaussianR = GaussianRange(r)\n",
    "    GaussianS = GaussianSpatial(d)\n",
    "    \n",
    "    for i in range(d, d + x):\n",
    "        for j in range(d, d + y):\n",
    "            kp = 0\n",
    "            sum1 = 0\n",
    "            for k in range (rgb):\n",
    "                pInten = flashImg[i][j][k]\n",
    "                qInten = flashImg[i-d : i+d+1 , j-d : j+d+1, k] \n",
    "                Rangepad = GaussianR[abs(qInten - pInten)]\n",
    "                Rangepad2 = Rangepad * noflashImg[i-d : i+d+1 , j-d : j+d+1, k] \n",
    "                mul=Rangepad*GaussianS\n",
    "                kp= np.sum(mul)\n",
    "                mul2= Rangepad2*GaussianS\n",
    "                sum1 =  np.sum(mul2)\n",
    "                outputImg [i-d][j-d][k]= (1/kp)*sum1\n",
    "                \n",
    "    return outputImg\n",
    "\n",
    "def DetailTransfer(flash, e, F_base, denoiseImg):\n",
    "    h, w, rgb = flash.shape\n",
    "    F_detail = np.zeros((h,w,rgb), np.uint8)\n",
    "    for x in range(h):\n",
    "        for y in range(w):\n",
    "            for i in range (rgb): #iterate through the image's height, width and channel\n",
    "                F_detail[x][y][i] = (flash[x][y][i] + e)/(F_base[x][y][i] + e) * denoiseImg[x][y][i]\n",
    "                \n",
    "  #  F_detail = np.multiply(F_detail,denoiseImg)\n",
    "    return F_detail\n",
    "                         "
   ]
  },
  {
   "cell_type": "code",
   "execution_count": 18,
   "id": "30feb64b",
   "metadata": {},
   "outputs": [],
   "source": [
    "no_flash = np.array(Image.open('cse273_project/test3a.jpeg'))\n",
    "flash = np.array(Image.open('cse273_project/test3b.jpeg'))\n",
    "spatialKern = 3\n",
    "rangeKern =0.255\n",
    "filteredimg = jointBilateralFilter(no_flash, flash, spatialKern, rangeKern)\n",
    "imageio.imwrite('denoise.jpeg',filteredimg)\n"
   ]
  },
  {
   "cell_type": "code",
   "execution_count": 17,
   "id": "69e07cb6",
   "metadata": {},
   "outputs": [],
   "source": [
    "F_base = jointBilateralFilter(flash,flash,spatialKern,75)\n",
    "e = 0.02\n",
    "detailimg = DetailTransfer(flash, e, F_base, filteredimg)\n",
    "imageio.imwrite('detailimg.jpeg',detailimg)"
   ]
  },
  {
   "cell_type": "code",
   "execution_count": null,
   "id": "5e4439b1",
   "metadata": {},
   "outputs": [],
   "source": []
  }
 ],
 "metadata": {
  "kernelspec": {
   "display_name": "Python 3 (ipykernel)",
   "language": "python",
   "name": "python3"
  },
  "language_info": {
   "codemirror_mode": {
    "name": "ipython",
    "version": 3
   },
   "file_extension": ".py",
   "mimetype": "text/x-python",
   "name": "python",
   "nbconvert_exporter": "python",
   "pygments_lexer": "ipython3",
   "version": "3.9.7"
  }
 },
 "nbformat": 4,
 "nbformat_minor": 5
}
